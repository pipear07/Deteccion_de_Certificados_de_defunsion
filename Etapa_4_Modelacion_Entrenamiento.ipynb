{
  "cells": [
    {
      "cell_type": "markdown",
      "metadata": {
        "id": "_YRKdPQ1dQN3"
      },
      "source": [
        "**Modelacion**"
      ]
    },
    {
      "cell_type": "code",
      "execution_count": null,
      "metadata": {
        "id": "E8GfJN-9OIsh"
      },
      "outputs": [],
      "source": []
    },
    {
      "cell_type": "code",
      "execution_count": null,
      "metadata": {
        "colab": {
          "base_uri": "https://localhost:8080/"
        },
        "id": "g6gpHQ1hd5Iy",
        "outputId": "cd7013de-650f-45f5-d68a-addab564e615"
      },
      "outputs": [],
      "source": [
        "from google.colab import drive\n",
        "drive.mount('/content/drive')"
      ]
    },
    {
      "cell_type": "markdown",
      "metadata": {
        "id": "Xvftu9wadQN6"
      },
      "source": [
        "# VALIDACIÓN DE CERTIFICADOS DE DEFUNCIÓN DE NACIMIENTOS EN COLOMBIA"
      ]
    },
    {
      "cell_type": "markdown",
      "metadata": {
        "id": "5eGfcpAvdQN7"
      },
      "source": [
        "**Datos de la presentación**\n",
        "\n",
        "\n",
        "* **Curso**: 901N\n",
        "\n",
        "* **Autores**:\n",
        "\n",
        "1. Andres Felipe Arevalo Moreno\n",
        "2. Luis Alexander Pedraza Cuellar"
      ]
    },
    {
      "cell_type": "code",
      "execution_count": 2,
      "metadata": {
        "id": "z_YzfP-HdQN9"
      },
      "outputs": [],
      "source": [
        "# Paquetes numéricos\n",
        "import numpy as np\n",
        "\n",
        "# DataFrames/Procesamiento\n",
        "import pandas as pd\n",
        "\n",
        "# Gráficas\n",
        "import matplotlib.pyplot as plt\n",
        "from sklearn import tree #graficos para el arbol de desicion\n",
        "import graphviz # mejora de la imagen\n",
        "\n",
        "from six import StringIO  \n",
        "from IPython.display import Image  \n",
        "from sklearn.tree import export_graphviz\n",
        "import pydotplus\n",
        "\n",
        "#Para dividir los datos (aleatorios)\n",
        "from sklearn.model_selection import train_test_split\n",
        "\n",
        "# Para crear clasificadores (la de nosotros)\n",
        "from sklearn.svm import SVC\n",
        "from sklearn.neighbors import KNeighborsClassifier\n",
        "from sklearn.linear_model import LogisticRegression\n",
        "from sklearn.tree import DecisionTreeClassifier\n",
        "\n",
        "\n",
        "# Para crear predictores\n",
        "from sklearn.linear_model import LinearRegression\n",
        "from sklearn.linear_model import Lasso\n",
        "from sklearn.linear_model import ElasticNet\n",
        "from sklearn.neighbors import KNeighborsRegressor\n",
        "from sklearn.tree import DecisionTreeRegressor\n",
        "from sklearn.svm import SVR\n",
        "\n",
        "\n",
        "# Para evaluar que tan bueno son nuestros modelos\n",
        "from sklearn.model_selection import KFold\n",
        "from sklearn.model_selection import cross_val_score\n"
      ]
    },
    {
      "cell_type": "markdown",
      "metadata": {
        "id": "_Z3jczp_soK6"
      },
      "source": [
        "## Modelado"
      ]
    },
    {
      "cell_type": "code",
      "execution_count": null,
      "metadata": {
        "colab": {
          "base_uri": "https://localhost:8080/"
        },
        "id": "8heDaJkKwBic",
        "outputId": "1a681583-79c2-4442-bee6-be484c247f95"
      },
      "outputs": [],
      "source": [
        "%cd '/content/drive/MyDrive/Datasets/nacimientos'"
      ]
    },
    {
      "cell_type": "markdown",
      "metadata": {
        "id": "H18mXxIPupIr"
      },
      "source": [
        "## 1- Cargar los datos (resultados)"
      ]
    },
    {
      "cell_type": "code",
      "execution_count": null,
      "metadata": {},
      "outputs": [],
      "source": [
        "unidos = pd.read_csv(r\"data/resultados.csv\")\n",
        "unidos.head()"
      ]
    },
    {
      "cell_type": "code",
      "execution_count": null,
      "metadata": {},
      "outputs": [],
      "source": [
        "len(unidos.columns)"
      ]
    },
    {
      "cell_type": "markdown",
      "metadata": {
        "id": "EUfUk9o2y_7d"
      },
      "source": [
        "## 2 - Separar las entradas (X) y las salidas (Y)\n",
        "**Y = wX + b**\n",
        "* La ecuacion  anterior es igual a la utilizada para la generacion de un linea (y = mx + b)\n",
        "\n",
        "Donde:\n",
        "* Y = Corresponde al valor que se espera que el modelo prediga\n",
        "* w = Es un peso calculado por el algoritmo para el modelo\n",
        "* X = Son los datos que se daran al modelo para hacer la prediccion\n",
        "* b = Corresponde al sesgo intrinseco de los datos que el modelo descubre \n",
        "\n",
        "<img width=\"578\" src=\"https://www.iartificial.net/wp-content/uploads/2018/12/ejemplo-error-cuadratico-medio2.png\">\n",
        "\n",
        "Fuente: https://www.google.com/url?sa=i&url=https%3A%2F%2Fwww.iartificial.net%2Fregresion-lineal-con-ejemplos-en-python%2F&psig=AOvVaw2D5C5-rQgHeFT5MPx5e3ox&ust=1651879384421000&source=images&cd=vfe&ved=0CAwQjRxqFwoTCOj_irPAyfcCFQAAAAAdAAAAABAD"
      ]
    },
    {
      "cell_type": "code",
      "execution_count": null,
      "metadata": {
        "colab": {
          "base_uri": "https://localhost:8080/"
        },
        "id": "CQhPYNJlzRUb",
        "outputId": "2f1e307c-9d98-4d3c-8e2e-d123d98178f3"
      },
      "outputs": [],
      "source": [
        "#Se Genera una lista de los resultados que esperamos (y)\n",
        "y = np.array(unidos['VIVOS'])\n",
        "y"
      ]
    },
    {
      "cell_type": "code",
      "execution_count": null,
      "metadata": {
        "colab": {
          "base_uri": "https://localhost:8080/",
          "height": 270
        },
        "id": "LOCcZwiG0tUS",
        "outputId": "8e8d3874-b2d7-4044-cb3e-01a361b09cdf"
      },
      "outputs": [],
      "source": [
        "#Dado que la columna a predecir no se incluira como entrada se remueve del dataframe\n",
        "x = unidos.drop('VIVOS', axis=1)\n",
        "x.head()"
      ]
    },
    {
      "cell_type": "markdown",
      "metadata": {
        "id": "mSNcIG1P1VOZ"
      },
      "source": [
        "## 3. Partir los datos en Entrenamiento, Validacion y Pruebas"
      ]
    },
    {
      "cell_type": "code",
      "execution_count": null,
      "metadata": {
        "colab": {
          "base_uri": "https://localhost:8080/"
        },
        "id": "CLHkz17q1duG",
        "outputId": "430af508-a39e-404c-f63d-c08819f0d6d2"
      },
      "outputs": [],
      "source": [
        "#Se separa 70% para entrenar, 15% para validar y el restante 15% para pruebas \n",
        "x_train, x_test, y_train, y_test = train_test_split(x, y, test_size=0.30)\n",
        "x_test, x_val, y_test, y_val = train_test_split(x_test, y_test, test_size=0.5)\n",
        "\n",
        "#tamaños\n",
        "print('train:', y_train.shape[0])\n",
        "print('Val:', y_val.shape[0])\n",
        "print('Test:', y_test.shape[0])"
      ]
    },
    {
      "cell_type": "markdown",
      "metadata": {},
      "source": [
        "## De aqui empezaria a correr"
      ]
    },
    {
      "cell_type": "markdown",
      "metadata": {},
      "source": [
        "## Recargar los datos de los archivos test.csv, train.csv y val.csv"
      ]
    },
    {
      "cell_type": "code",
      "execution_count": 3,
      "metadata": {},
      "outputs": [],
      "source": [
        "x_train = pd.DataFrame()\n",
        "x_val = pd.DataFrame()\n",
        "x_test = pd.DataFrame()\n",
        "\n",
        "x_train =  pd.read_csv(r\"data/train_x.csv\")\n",
        "x_val =  pd.read_csv(r\"data/val_x.csv\")\n",
        "x_test =  pd.read_csv(r\"data/test_x.csv\")\n",
        "\n",
        "y_train = pd.read_csv(r\"data/train.csv\")\n",
        "y_val = pd.read_csv(r\"data/val.csv\")\n",
        "y_test = pd.read_csv(r\"data/test.csv\")"
      ]
    },
    {
      "cell_type": "markdown",
      "metadata": {
        "id": "p7L7G-Oo3SMD"
      },
      "source": [
        "## Algunos clasificadores"
      ]
    },
    {
      "cell_type": "markdown",
      "metadata": {
        "id": "4yU8Gjj8upIx"
      },
      "source": [
        "## Arbol de desiciones (clasificador)"
      ]
    },
    {
      "cell_type": "code",
      "execution_count": 27,
      "metadata": {
        "colab": {
          "base_uri": "https://localhost:8080/",
          "height": 786
        },
        "id": "AmBQI2qtupIx",
        "outputId": "e3a1c665-3b16-46ea-cfcf-1225362d25b6"
      },
      "outputs": [
        {
          "name": "stdout",
          "output_type": "stream",
          "text": [
            "Clasificador Tree Desition\n",
            "train Exactitud (accuracy): 0.9663539852833792\n",
            "val Exactitud (accuracy): 0.9617300131061599\n",
            "test Exactitud (accuracy): 0.9682830930537353\n"
          ]
        },
        {
          "data": {
            "text/plain": [
              "[Text(0.5, 0.75, 'X[1] <= 2.5\\ngini = 0.479\\nsamples = 3815\\nvalue = [1514, 2301]'),\n",
              " Text(0.25, 0.25, 'gini = 0.049\\nsamples = 1467\\nvalue = [1430, 37]'),\n",
              " Text(0.75, 0.25, 'gini = 0.069\\nsamples = 2348\\nvalue = [84, 2264]')]"
            ]
          },
          "execution_count": 27,
          "metadata": {},
          "output_type": "execute_result"
        },
        {
          "data": {
            "image/png": "[encoded data removed]",
            "text/plain": [
              "<Figure size 432x288 with 1 Axes>"
            ]
          },
          "metadata": {
            "needs_background": "light"
          },
          "output_type": "display_data"
        }
      ],
      "source": [
        "#este es el que pósiblemente nos vayamos, es el mas facil de explicar\n",
        "print('Clasificador Tree Desition')\n",
        "tree_desicion = DecisionTreeClassifier(max_depth = 1) #con esto controlo el tamaño del arbol\n",
        "clf = tree_desicion.fit(x_test, y_test)\n",
        "\n",
        "y_predict = tree_desicion.predict(x_val)\n",
        "print('train Exactitud (accuracy):', tree_desicion.score(x_train,y_train))\n",
        "print('val Exactitud (accuracy):', tree_desicion.score(x_val,y_val))\n",
        "print('test Exactitud (accuracy):', tree_desicion.score(x_test,y_test))\n",
        "\n",
        "tree.plot_tree(clf)"
      ]
    },
    {
      "cell_type": "code",
      "execution_count": 28,
      "metadata": {
        "colab": {
          "base_uri": "https://localhost:8080/",
          "height": 488
        },
        "id": "zru2xCJHupIy",
        "outputId": "59cc2f4a-ad2e-4a50-a6ca-8c148f13c02e"
      },
      "outputs": [
        {
          "data": {
            "text/html": [
              "<div>\n",
              "<style scoped>\n",
              "    .dataframe tbody tr th:only-of-type {\n",
              "        vertical-align: middle;\n",
              "    }\n",
              "\n",
              "    .dataframe tbody tr th {\n",
              "        vertical-align: top;\n",
              "    }\n",
              "\n",
              "    .dataframe thead th {\n",
              "        text-align: right;\n",
              "    }\n",
              "</style>\n",
              "<table border=\"1\" class=\"dataframe\">\n",
              "  <thead>\n",
              "    <tr style=\"text-align: right;\">\n",
              "      <th></th>\n",
              "      <th>SIT_PARTO</th>\n",
              "      <th>PESO_NAC</th>\n",
              "      <th>T_GES</th>\n",
              "      <th>TIPO_PARTO</th>\n",
              "      <th>MUL_PARTO</th>\n",
              "      <th>EDAD_MADRE</th>\n",
              "      <th>PROFESION</th>\n",
              "      <th>AREANAC_1</th>\n",
              "      <th>AREANAC_2</th>\n",
              "      <th>AREANAC_3</th>\n",
              "      <th>SEG_SOCIAL_1</th>\n",
              "      <th>SEG_SOCIAL_2</th>\n",
              "      <th>SEG_SOCIAL_3</th>\n",
              "      <th>SEG_SOCIAL_4</th>\n",
              "      <th>SEG_SOCIAL_5</th>\n",
              "    </tr>\n",
              "  </thead>\n",
              "  <tbody>\n",
              "    <tr>\n",
              "      <th>0</th>\n",
              "      <td>1</td>\n",
              "      <td>5</td>\n",
              "      <td>4</td>\n",
              "      <td>1</td>\n",
              "      <td>1</td>\n",
              "      <td>3</td>\n",
              "      <td>1</td>\n",
              "      <td>1</td>\n",
              "      <td>0</td>\n",
              "      <td>0</td>\n",
              "      <td>1</td>\n",
              "      <td>0</td>\n",
              "      <td>0</td>\n",
              "      <td>0</td>\n",
              "      <td>0</td>\n",
              "    </tr>\n",
              "    <tr>\n",
              "      <th>1</th>\n",
              "      <td>1</td>\n",
              "      <td>6</td>\n",
              "      <td>4</td>\n",
              "      <td>2</td>\n",
              "      <td>1</td>\n",
              "      <td>3</td>\n",
              "      <td>1</td>\n",
              "      <td>1</td>\n",
              "      <td>0</td>\n",
              "      <td>0</td>\n",
              "      <td>0</td>\n",
              "      <td>0</td>\n",
              "      <td>0</td>\n",
              "      <td>0</td>\n",
              "      <td>1</td>\n",
              "    </tr>\n",
              "    <tr>\n",
              "      <th>2</th>\n",
              "      <td>1</td>\n",
              "      <td>4</td>\n",
              "      <td>3</td>\n",
              "      <td>2</td>\n",
              "      <td>2</td>\n",
              "      <td>5</td>\n",
              "      <td>1</td>\n",
              "      <td>1</td>\n",
              "      <td>0</td>\n",
              "      <td>0</td>\n",
              "      <td>0</td>\n",
              "      <td>1</td>\n",
              "      <td>0</td>\n",
              "      <td>0</td>\n",
              "      <td>0</td>\n",
              "    </tr>\n",
              "    <tr>\n",
              "      <th>3</th>\n",
              "      <td>1</td>\n",
              "      <td>5</td>\n",
              "      <td>4</td>\n",
              "      <td>1</td>\n",
              "      <td>1</td>\n",
              "      <td>3</td>\n",
              "      <td>1</td>\n",
              "      <td>1</td>\n",
              "      <td>0</td>\n",
              "      <td>0</td>\n",
              "      <td>0</td>\n",
              "      <td>1</td>\n",
              "      <td>0</td>\n",
              "      <td>0</td>\n",
              "      <td>0</td>\n",
              "    </tr>\n",
              "    <tr>\n",
              "      <th>4</th>\n",
              "      <td>1</td>\n",
              "      <td>7</td>\n",
              "      <td>5</td>\n",
              "      <td>2</td>\n",
              "      <td>1</td>\n",
              "      <td>5</td>\n",
              "      <td>1</td>\n",
              "      <td>1</td>\n",
              "      <td>0</td>\n",
              "      <td>0</td>\n",
              "      <td>0</td>\n",
              "      <td>1</td>\n",
              "      <td>0</td>\n",
              "      <td>0</td>\n",
              "      <td>0</td>\n",
              "    </tr>\n",
              "    <tr>\n",
              "      <th>...</th>\n",
              "      <td>...</td>\n",
              "      <td>...</td>\n",
              "      <td>...</td>\n",
              "      <td>...</td>\n",
              "      <td>...</td>\n",
              "      <td>...</td>\n",
              "      <td>...</td>\n",
              "      <td>...</td>\n",
              "      <td>...</td>\n",
              "      <td>...</td>\n",
              "      <td>...</td>\n",
              "      <td>...</td>\n",
              "      <td>...</td>\n",
              "      <td>...</td>\n",
              "      <td>...</td>\n",
              "    </tr>\n",
              "    <tr>\n",
              "      <th>3810</th>\n",
              "      <td>1</td>\n",
              "      <td>1</td>\n",
              "      <td>2</td>\n",
              "      <td>2</td>\n",
              "      <td>1</td>\n",
              "      <td>3</td>\n",
              "      <td>1</td>\n",
              "      <td>1</td>\n",
              "      <td>0</td>\n",
              "      <td>0</td>\n",
              "      <td>1</td>\n",
              "      <td>0</td>\n",
              "      <td>0</td>\n",
              "      <td>0</td>\n",
              "      <td>0</td>\n",
              "    </tr>\n",
              "    <tr>\n",
              "      <th>3811</th>\n",
              "      <td>1</td>\n",
              "      <td>1</td>\n",
              "      <td>1</td>\n",
              "      <td>1</td>\n",
              "      <td>1</td>\n",
              "      <td>3</td>\n",
              "      <td>1</td>\n",
              "      <td>1</td>\n",
              "      <td>0</td>\n",
              "      <td>0</td>\n",
              "      <td>1</td>\n",
              "      <td>0</td>\n",
              "      <td>0</td>\n",
              "      <td>0</td>\n",
              "      <td>0</td>\n",
              "    </tr>\n",
              "    <tr>\n",
              "      <th>3812</th>\n",
              "      <td>1</td>\n",
              "      <td>1</td>\n",
              "      <td>1</td>\n",
              "      <td>1</td>\n",
              "      <td>1</td>\n",
              "      <td>5</td>\n",
              "      <td>1</td>\n",
              "      <td>1</td>\n",
              "      <td>0</td>\n",
              "      <td>0</td>\n",
              "      <td>1</td>\n",
              "      <td>0</td>\n",
              "      <td>0</td>\n",
              "      <td>0</td>\n",
              "      <td>0</td>\n",
              "    </tr>\n",
              "    <tr>\n",
              "      <th>3813</th>\n",
              "      <td>1</td>\n",
              "      <td>5</td>\n",
              "      <td>4</td>\n",
              "      <td>2</td>\n",
              "      <td>1</td>\n",
              "      <td>2</td>\n",
              "      <td>1</td>\n",
              "      <td>1</td>\n",
              "      <td>0</td>\n",
              "      <td>0</td>\n",
              "      <td>0</td>\n",
              "      <td>1</td>\n",
              "      <td>0</td>\n",
              "      <td>0</td>\n",
              "      <td>0</td>\n",
              "    </tr>\n",
              "    <tr>\n",
              "      <th>3814</th>\n",
              "      <td>1</td>\n",
              "      <td>1</td>\n",
              "      <td>1</td>\n",
              "      <td>1</td>\n",
              "      <td>1</td>\n",
              "      <td>3</td>\n",
              "      <td>1</td>\n",
              "      <td>1</td>\n",
              "      <td>0</td>\n",
              "      <td>0</td>\n",
              "      <td>1</td>\n",
              "      <td>0</td>\n",
              "      <td>0</td>\n",
              "      <td>0</td>\n",
              "      <td>0</td>\n",
              "    </tr>\n",
              "  </tbody>\n",
              "</table>\n",
              "<p>3815 rows × 15 columns</p>\n",
              "</div>"
            ],
            "text/plain": [
              "      SIT_PARTO  PESO_NAC  T_GES  TIPO_PARTO  MUL_PARTO  EDAD_MADRE  \\\n",
              "0             1         5      4           1          1           3   \n",
              "1             1         6      4           2          1           3   \n",
              "2             1         4      3           2          2           5   \n",
              "3             1         5      4           1          1           3   \n",
              "4             1         7      5           2          1           5   \n",
              "...         ...       ...    ...         ...        ...         ...   \n",
              "3810          1         1      2           2          1           3   \n",
              "3811          1         1      1           1          1           3   \n",
              "3812          1         1      1           1          1           5   \n",
              "3813          1         5      4           2          1           2   \n",
              "3814          1         1      1           1          1           3   \n",
              "\n",
              "      PROFESION  AREANAC_1  AREANAC_2  AREANAC_3  SEG_SOCIAL_1  SEG_SOCIAL_2  \\\n",
              "0             1          1          0          0             1             0   \n",
              "1             1          1          0          0             0             0   \n",
              "2             1          1          0          0             0             1   \n",
              "3             1          1          0          0             0             1   \n",
              "4             1          1          0          0             0             1   \n",
              "...         ...        ...        ...        ...           ...           ...   \n",
              "3810          1          1          0          0             1             0   \n",
              "3811          1          1          0          0             1             0   \n",
              "3812          1          1          0          0             1             0   \n",
              "3813          1          1          0          0             0             1   \n",
              "3814          1          1          0          0             1             0   \n",
              "\n",
              "      SEG_SOCIAL_3  SEG_SOCIAL_4  SEG_SOCIAL_5  \n",
              "0                0             0             0  \n",
              "1                0             0             1  \n",
              "2                0             0             0  \n",
              "3                0             0             0  \n",
              "4                0             0             0  \n",
              "...            ...           ...           ...  \n",
              "3810             0             0             0  \n",
              "3811             0             0             0  \n",
              "3812             0             0             0  \n",
              "3813             0             0             0  \n",
              "3814             0             0             0  \n",
              "\n",
              "[3815 rows x 15 columns]"
            ]
          },
          "execution_count": 28,
          "metadata": {},
          "output_type": "execute_result"
        }
      ],
      "source": [
        "x_val"
      ]
    },
    {
      "cell_type": "code",
      "execution_count": 29,
      "metadata": {
        "colab": {
          "base_uri": "https://localhost:8080/",
          "height": 375
        },
        "id": "IyjDgXFyupIy",
        "outputId": "1dc01e7f-d47c-448a-bb5c-9234dc099a40"
      },
      "outputs": [
        {
          "data": {
            "image/png": "[encoded data removed]",
            "text/plain": [
              "<IPython.core.display.Image object>"
            ]
          },
          "execution_count": 29,
          "metadata": {},
          "output_type": "execute_result"
        }
      ],
      "source": [
        "dot_data = StringIO()\n",
        "export_graphviz(clf, out_file = dot_data,  \n",
        "                filled = True, rounded = True,\n",
        "                class_names=['muerto','vivo'],\n",
        "                feature_names = x_val.columns,\n",
        "                special_characters = True)\n",
        "graph = pydotplus.graph_from_dot_data(dot_data.getvalue())  \n",
        "Image(graph.create_png())"
      ]
    },
    {
      "cell_type": "markdown",
      "metadata": {
        "id": "Vo1paiVlupIy"
      },
      "source": [
        "## Regresion lineal - Arbol de desicion"
      ]
    },
    {
      "cell_type": "code",
      "execution_count": null,
      "metadata": {
        "id": "P9wYI6mtupIz",
        "outputId": "d1db0cbe-fdd7-437d-e2bd-f13c41d496a5"
      },
      "outputs": [],
      "source": [
        "print('Regresion lineal - arbol de desicion')\n",
        "r1 = DecisionTreeRegressor()\n",
        "r1.fit(x_train, y_train)\n",
        "y_predict = r1.predict(x_val)\n",
        "print(' R^2', r1.score(x_val, y_val))"
      ]
    },
    {
      "cell_type": "markdown",
      "metadata": {
        "id": "ey02DhsZupIz"
      },
      "source": [
        "## KNN (clasificador)"
      ]
    },
    {
      "cell_type": "code",
      "execution_count": null,
      "metadata": {
        "colab": {
          "base_uri": "https://localhost:8080/"
        },
        "id": "zibOWNiP4ViZ",
        "outputId": "5c15593e-418a-47fe-a63f-b578503cb9a5"
      },
      "outputs": [],
      "source": [
        "print('Clasificador KNN')\n",
        "knn = KNeighborsClassifier()\n",
        "knn.fit(x_train, y_train)\n",
        "y_predict = knn.predict(x_val)\n",
        "print(' Exactitud (accuracy):', knn.score(x_val,y_val))"
      ]
    },
    {
      "cell_type": "markdown",
      "metadata": {
        "id": "-upGHzUrupI0"
      },
      "source": [
        "## Regresion lineal - KNN\n"
      ]
    },
    {
      "cell_type": "code",
      "execution_count": null,
      "metadata": {
        "id": "gk9d_U_yupI0",
        "outputId": "66371a07-325a-40eb-ac91-5b2a4228b4dc"
      },
      "outputs": [],
      "source": [
        "print('Regresion lineal - KNN')\n",
        "r1 = KNeighborsRegressor()\n",
        "r1.fit(x_train, y_train)\n",
        "y_predict = r1.predict(x_val)\n",
        "print(' R^2', r1.score(x_val, y_val))"
      ]
    },
    {
      "cell_type": "markdown",
      "metadata": {
        "id": "o4k0l0FdupI0"
      },
      "source": [
        "## Sensibilidad"
      ]
    },
    {
      "cell_type": "code",
      "execution_count": 14,
      "metadata": {
        "colab": {
          "base_uri": "https://localhost:8080/"
        },
        "id": "A01Cyt-qupI1",
        "outputId": "ac317eeb-3b34-4b90-934f-ecdc65757ba2"
      },
      "outputs": [
        {
          "data": {
            "text/plain": [
              "(3815, 3815, 3815)"
            ]
          },
          "execution_count": 14,
          "metadata": {},
          "output_type": "execute_result"
        }
      ],
      "source": [
        "len(x_val), len(y_val), len(y_predict)"
      ]
    },
    {
      "cell_type": "markdown",
      "metadata": {
        "id": "pofFM9EMupI1"
      },
      "source": [
        "#experimento, creo un dataframe"
      ]
    },
    {
      "cell_type": "code",
      "execution_count": 15,
      "metadata": {
        "id": "3Y1wG9oAupI1"
      },
      "outputs": [],
      "source": [
        "experimento = pd.DataFrame()"
      ]
    },
    {
      "cell_type": "code",
      "execution_count": 16,
      "metadata": {
        "id": "G72AJWYFupI1"
      },
      "outputs": [],
      "source": [
        "def resultados(row):\n",
        "    try:\n",
        "       \n",
        "        if (row['Predicho']==1 and row['Y']==1):\n",
        "            return 'VP' #Verdadero Positivo\n",
        "\n",
        "        if (row['Predicho']==-1 and row['Y']==1):\n",
        "            return 'FN' #Falso Negativo\n",
        "        \n",
        "        if (row['Predicho']==1 and row['Y']==-1):\n",
        "            return 'FP' #Falso Positivo\n",
        "        \n",
        "        if (row['Predicho']==-1 and row['Y']==-1):\n",
        "            return 'VN' #Verdadero Negativo\n",
        "    except:\n",
        "        return np.NaN #si hay problemas, no retorne nada"
      ]
    },
    {
      "cell_type": "markdown",
      "metadata": {
        "id": "yC0UPgkUupI1"
      },
      "source": [
        "#Creamos un dataframe aparte para saber los verdaderos positivos"
      ]
    },
    {
      "cell_type": "code",
      "execution_count": 17,
      "metadata": {
        "colab": {
          "base_uri": "https://localhost:8080/",
          "height": 424
        },
        "id": "bW8WletUupI2",
        "outputId": "9ddf123e-abf6-4c99-aa71-0724ecc0064f"
      },
      "outputs": [
        {
          "data": {
            "text/html": [
              "<div>\n",
              "<style scoped>\n",
              "    .dataframe tbody tr th:only-of-type {\n",
              "        vertical-align: middle;\n",
              "    }\n",
              "\n",
              "    .dataframe tbody tr th {\n",
              "        vertical-align: top;\n",
              "    }\n",
              "\n",
              "    .dataframe thead th {\n",
              "        text-align: right;\n",
              "    }\n",
              "</style>\n",
              "<table border=\"1\" class=\"dataframe\">\n",
              "  <thead>\n",
              "    <tr style=\"text-align: right;\">\n",
              "      <th></th>\n",
              "      <th>Predicho</th>\n",
              "      <th>Y</th>\n",
              "      <th>?</th>\n",
              "    </tr>\n",
              "  </thead>\n",
              "  <tbody>\n",
              "    <tr>\n",
              "      <th>0</th>\n",
              "      <td>1</td>\n",
              "      <td>1</td>\n",
              "      <td>VP</td>\n",
              "    </tr>\n",
              "    <tr>\n",
              "      <th>1</th>\n",
              "      <td>1</td>\n",
              "      <td>1</td>\n",
              "      <td>VP</td>\n",
              "    </tr>\n",
              "    <tr>\n",
              "      <th>2</th>\n",
              "      <td>1</td>\n",
              "      <td>-1</td>\n",
              "      <td>FP</td>\n",
              "    </tr>\n",
              "    <tr>\n",
              "      <th>3</th>\n",
              "      <td>1</td>\n",
              "      <td>1</td>\n",
              "      <td>VP</td>\n",
              "    </tr>\n",
              "    <tr>\n",
              "      <th>4</th>\n",
              "      <td>1</td>\n",
              "      <td>1</td>\n",
              "      <td>VP</td>\n",
              "    </tr>\n",
              "    <tr>\n",
              "      <th>...</th>\n",
              "      <td>...</td>\n",
              "      <td>...</td>\n",
              "      <td>...</td>\n",
              "    </tr>\n",
              "    <tr>\n",
              "      <th>3810</th>\n",
              "      <td>-1</td>\n",
              "      <td>1</td>\n",
              "      <td>FN</td>\n",
              "    </tr>\n",
              "    <tr>\n",
              "      <th>3811</th>\n",
              "      <td>-1</td>\n",
              "      <td>-1</td>\n",
              "      <td>VN</td>\n",
              "    </tr>\n",
              "    <tr>\n",
              "      <th>3812</th>\n",
              "      <td>-1</td>\n",
              "      <td>-1</td>\n",
              "      <td>VN</td>\n",
              "    </tr>\n",
              "    <tr>\n",
              "      <th>3813</th>\n",
              "      <td>1</td>\n",
              "      <td>1</td>\n",
              "      <td>VP</td>\n",
              "    </tr>\n",
              "    <tr>\n",
              "      <th>3814</th>\n",
              "      <td>-1</td>\n",
              "      <td>-1</td>\n",
              "      <td>VN</td>\n",
              "    </tr>\n",
              "  </tbody>\n",
              "</table>\n",
              "<p>3815 rows × 3 columns</p>\n",
              "</div>"
            ],
            "text/plain": [
              "      Predicho  Y   ?\n",
              "0            1  1  VP\n",
              "1            1  1  VP\n",
              "2            1 -1  FP\n",
              "3            1  1  VP\n",
              "4            1  1  VP\n",
              "...        ... ..  ..\n",
              "3810        -1  1  FN\n",
              "3811        -1 -1  VN\n",
              "3812        -1 -1  VN\n",
              "3813         1  1  VP\n",
              "3814        -1 -1  VN\n",
              "\n",
              "[3815 rows x 3 columns]"
            ]
          },
          "execution_count": 17,
          "metadata": {},
          "output_type": "execute_result"
        }
      ],
      "source": [
        "experimento['Predicho'] = y_predict\n",
        "experimento['Y'] = y_val\n",
        "experimento['?'] = experimento.apply(resultados,axis=1)\n",
        "#experimento.to_csv(r\"dataframe.csv\") #esto lo genero para verificar cuantos datos tiene en el excel y ponerlo aqui en codigo para que haga todo el trabajo\n",
        "experimento"
      ]
    },
    {
      "cell_type": "markdown",
      "metadata": {
        "id": "xdYoYTjBupI2"
      },
      "source": [
        "#Este comando es para ver cuantos valores existe en una columna de dataframe, ya lo compare generando un excel aparte y si coinciden"
      ]
    },
    {
      "cell_type": "code",
      "execution_count": 18,
      "metadata": {
        "colab": {
          "base_uri": "https://localhost:8080/"
        },
        "id": "j_75tSKtupI2",
        "outputId": "d28383ab-cd20-4a3e-8da6-074e56329898"
      },
      "outputs": [
        {
          "data": {
            "text/plain": [
              "VP    2177\n",
              "VN    1514\n",
              "FP      89\n",
              "FN      35\n",
              "Name: ?, dtype: int64"
            ]
          },
          "execution_count": 18,
          "metadata": {},
          "output_type": "execute_result"
        }
      ],
      "source": [
        "experimento['?'].value_counts()"
      ]
    },
    {
      "cell_type": "markdown",
      "metadata": {
        "id": "wdlJCUE0upI2"
      },
      "source": [
        "#Hacemos un filtrado para quedarnos solo con la cantidad de valores en un numero entero"
      ]
    },
    {
      "cell_type": "code",
      "execution_count": 19,
      "metadata": {
        "id": "2tyhfp3EupI2"
      },
      "outputs": [],
      "source": [
        "verdaderos_positivos = experimento[experimento['?'] == 'VP'] #aplico un filtrado de valores\n",
        "verdaderos_negativos = experimento[experimento['?'] == 'VN'] #aplico un filtrado de valores\n",
        "falsos_positivos = experimento[experimento['?'] == 'FP'] #aplico un filtrado de valores\n",
        "falsos_negativos = experimento[experimento['?'] == 'FN'] #aplico un filtrado de valores\n",
        "\n",
        "verdaderos_positivos = verdaderos_positivos['?'].count() #Esto me sirve para contar los valores de la columna interrogacion\n",
        "verdaderos_negativos = verdaderos_negativos['?'].count() #Esto me sirve para contar los valores de la columna interrogacion\n",
        "falsos_positivos = falsos_positivos['?'].count() #Esto me sirve para contar los valores de la columna interrogacion\n",
        "falsos_negativos = falsos_negativos['?'].count() #Esto me sirve para contar los valores de la columna interrogacion"
      ]
    },
    {
      "cell_type": "markdown",
      "metadata": {
        "id": "HHEvr5yiupI3"
      },
      "source": [
        "#Aplicamos la formula de la sensibilidad :D"
      ]
    },
    {
      "cell_type": "markdown",
      "metadata": {
        "id": "A6_xtkxzupI3"
      },
      "source": [
        "## Formula - sensibilidad"
      ]
    },
    {
      "cell_type": "code",
      "execution_count": 20,
      "metadata": {
        "colab": {
          "base_uri": "https://localhost:8080/"
        },
        "id": "Kb6-0kHoupI3",
        "outputId": "c3931248-08b2-4eca-e02a-b0df8d53a261"
      },
      "outputs": [
        {
          "data": {
            "text/plain": [
              "0.9841772151898734"
            ]
          },
          "execution_count": 20,
          "metadata": {},
          "output_type": "execute_result"
        }
      ],
      "source": [
        "sensibilidad = verdaderos_positivos/(verdaderos_positivos + falsos_negativos)\n",
        "sensibilidad"
      ]
    },
    {
      "cell_type": "markdown",
      "metadata": {
        "id": "E8Zfr-aeupI3"
      },
      "source": [
        "## Exactitud - sensibilidad"
      ]
    },
    {
      "cell_type": "code",
      "execution_count": 21,
      "metadata": {
        "colab": {
          "base_uri": "https://localhost:8080/"
        },
        "id": "M8bb95EmupI4",
        "outputId": "a70bbef9-3e64-43a0-e9c2-c012463795bb"
      },
      "outputs": [
        {
          "data": {
            "text/plain": [
              "98.41772151898735"
            ]
          },
          "execution_count": 21,
          "metadata": {},
          "output_type": "execute_result"
        }
      ],
      "source": [
        "exactitud = sensibilidad*100\n",
        "exactitud"
      ]
    },
    {
      "cell_type": "markdown",
      "metadata": {
        "id": "RsOsRGh5PA_2"
      },
      "source": [
        "## Presicion\n",
        "Se calcula como:  VP/(VP+FP)"
      ]
    },
    {
      "cell_type": "code",
      "execution_count": 22,
      "metadata": {
        "colab": {
          "base_uri": "https://localhost:8080/"
        },
        "id": "eIJtzw3gPEME",
        "outputId": "79531b99-f21e-41ca-db2f-066ba5bfd619"
      },
      "outputs": [
        {
          "data": {
            "text/plain": [
              "0.9607237422771403"
            ]
          },
          "execution_count": 22,
          "metadata": {},
          "output_type": "execute_result"
        }
      ],
      "source": [
        "Presicion = verdaderos_positivos/(verdaderos_positivos + falsos_positivos)\n",
        "Presicion"
      ]
    },
    {
      "cell_type": "markdown",
      "metadata": {
        "id": "4JWPsi52PHio"
      },
      "source": [
        "## F1 SCORE - KNN\n",
        "Esta es otra métrica muy empleada porque nos resume la precisión y sensibilidad en una sola métrica. Por ello es de gran utilidad cuando la distribución de las clases es desigual <br>\n",
        "<img width=\"300\" src=\"https://live.staticflickr.com/65535/48051297527_655abe34c2_b.jpg\">"
      ]
    },
    {
      "cell_type": "code",
      "execution_count": 23,
      "metadata": {
        "colab": {
          "base_uri": "https://localhost:8080/"
        },
        "id": "vw0hHmsRPKpg",
        "outputId": "98914f7e-d7aa-411f-c2f3-b9c729d5cf30"
      },
      "outputs": [
        {
          "data": {
            "text/plain": [
              "0.9723090665475659"
            ]
          },
          "execution_count": 23,
          "metadata": {},
          "output_type": "execute_result"
        }
      ],
      "source": [
        "PuntajeF1 = (2*Presicion*sensibilidad)/(Presicion+sensibilidad)\n",
        "PuntajeF1"
      ]
    },
    {
      "cell_type": "markdown",
      "metadata": {
        "id": "AnUk9gt7upI4"
      },
      "source": [
        "## 5- Validacion Cruzada\n",
        "\n",
        "* Documentacion sobre Sklearn: https://scikit-learn.org/stable/user_guide.html\n",
        "<center><img src=\"https://upload.wikimedia.org/wikipedia/commons/f/f2/K-fold_cross_validation.jpg\"></center><br>\n",
        "\n",
        "Fuente: https://www.google.com/url?sa=i&url=https%3A%2F%2Fes.wikipedia.org%2Fwiki%2FValidaci%25C3%25B3n_cruzada&psig=AOvVaw1Dhmhr3MTwEqSOt5PP_Evr&ust=1652051988236000&source=images&cd=vfe&ved=0CAwQjRxqFwoTCJDe9dTDzvcCFQAAAAAdAAAAABAJ"
      ]
    },
    {
      "cell_type": "code",
      "execution_count": null,
      "metadata": {
        "id": "MDXdYSTwupI4",
        "outputId": "17bc6d79-a80c-4a80-9ba8-588142d55286"
      },
      "outputs": [],
      "source": [
        "#Se compara todos los modelos seleccionados usando el puntaje de un K-Fold\n",
        "num_folds = 10 #Numero de particiones\n",
        "scoring = \"neg_mean_squared_error\" # https://scikit-learn.org/stable/modules/model_\n",
        "\n",
        "#lista de algoritmos\n",
        "#ver: https://scikit-learn.org/stable/supervised_learning.html\n",
        "models = []\n",
        "models.append(('Log Reg', LogisticRegression()))\n",
        "models.append(('SVM Reg', SVC()))\n",
        "models.append(('KNN Reg', KNeighborsClassifier()))\n",
        "\n",
        "models.append(('LR',LinearRegression()))\n",
        "models.append(('SVR',SVC()))\n",
        "models.append(('KNNR', KNeighborsRegressor()))\n",
        "models.append(('LASSO', Lasso()))\n",
        "models.append(('EN', ElasticNet()))\n",
        "models.append(('Tree', DecisionTreeClassifier()))\n",
        "\n",
        "results = []\n",
        "names = []\n",
        "\n",
        "print('Resultados')\n",
        "kfold = KFold(n_splits=num_folds)\n",
        "for name, model in models:\n",
        "    cv_results = cross_val_score(model, x_train, y_train, cv=kfold, scoring=scoring)\n",
        "    results.append(cv_results)\n",
        "    names.append(name)\n",
        "    msg = \"%s: %f (%f)\" % (name, cv_results.mean(), cv_results.std())\n",
        "    print(msg)"
      ]
    },
    {
      "cell_type": "markdown",
      "metadata": {
        "id": "GZsWseW9upI4"
      },
      "source": [
        "## 6- Comparacion de resultados"
      ]
    },
    {
      "cell_type": "code",
      "execution_count": null,
      "metadata": {
        "id": "7AOjmDnZupI5",
        "outputId": "bd567ecb-e713-4cbf-908f-018a83f7c5bc"
      },
      "outputs": [],
      "source": [
        "#Graficamos los resultados para una comparacion mas heavy ;)\n",
        "fig = plt.figure()\n",
        "fig.suptitle('Comparacion de Algoritmos')\n",
        "ax = fig.add_subplot(111)\n",
        "plt.boxplot(results)\n",
        "ax.set_xticklabels(names)\n",
        "plt.show()"
      ]
    },
    {
      "cell_type": "markdown",
      "metadata": {
        "id": "cLaIevxVupI5"
      },
      "source": [
        "#Esto lo genero el profe"
      ]
    },
    {
      "cell_type": "code",
      "execution_count": null,
      "metadata": {
        "id": "05BJvOUK6wwt"
      },
      "outputs": [],
      "source": [
        "#len(x_val), len(y_val), len(y_predict)\n",
        "print(y_val[0:10], y_predict[0:10])            \n"
      ]
    }
  ],
  "metadata": {
    "colab": {
      "collapsed_sections": [],
      "name": "Etapa_4_Modelacion.ipynb",
      "provenance": []
    },
    "interpreter": {
      "hash": "3716a1c66d8b21e894f7b5f5c3b1dca8602a33bebf0f715394a73673a9ebd5f1"
    },
    "kernelspec": {
      "display_name": "Python 3.10.1 ('venv': venv)",
      "language": "python",
      "name": "python3"
    },
    "language_info": {
      "codemirror_mode": {
        "name": "ipython",
        "version": 3
      },
      "file_extension": ".py",
      "mimetype": "text/x-python",
      "name": "python",
      "nbconvert_exporter": "python",
      "pygments_lexer": "ipython3",
      "version": "3.10.1"
    }
  },
  "nbformat": 4,
  "nbformat_minor": 0
}
