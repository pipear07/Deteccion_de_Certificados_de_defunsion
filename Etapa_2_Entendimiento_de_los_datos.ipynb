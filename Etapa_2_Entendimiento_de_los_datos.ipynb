{
  "nbformat": 4,
  "nbformat_minor": 0,
  "metadata": {
    "colab": {
      "name": "Taller_2_Entendimiento_de_los_datos.ipynb",
      "provenance": [],
      "collapsed_sections": [
        "xwytrs-y2ArE"
      ]
    },
    "kernelspec": {
      "name": "python3",
      "display_name": "Python 3"
    },
    "language_info": {
      "name": "python"
    }
  },
  "cells": [
    {
      "cell_type": "markdown",
      "metadata": {
        "id": "v_duj-lFcdrk"
      },
      "source": [
        "**Parcial 1 - Enendimiento de los datos**\n",
        "\n",
        "En este trabajo se busca definir el contexto inicial para unproyecto de analítica de datos.\n",
        "\n",
        "\n",
        "**Consideraciones**\n",
        "\n",
        "* Lea estas consideraciones!!!\n",
        "* No modifique las celdas de texto. Salvo la siguiente en la cual debe poner su nombre y curso.\n",
        "* Asegurese de incluir la documentación (**Con ortografía**) para cada una de las fucniones construídas.\n",
        "* Es un ejercicio de aprendizaje, por lo que se espera una total autonomia en su desarrollo con soluciones tan variadas como la personalidad de cada uno.\n",
        "* No todos los ejercicios tienen la misma calificación. Ésta se muestra al lado del título de cada ejercicio.\n",
        "* Asegurese de editar donde dice \"**Su texto aquí**\", en las celdas que se indique.\n"
      ]
    },
    {
      "cell_type": "markdown",
      "metadata": {
        "id": "A_M4jLjJ2aI3"
      },
      "source": [
        "# VALIDACIÓN DE CERTIFICADOS DE DEFUNCIÓN DE NACIMIENTOS EN COLOMBIA"
      ]
    },
    {
      "cell_type": "markdown",
      "metadata": {
        "id": "XvW_RdVdcqHj"
      },
      "source": [
        "**Datos de la presentación**\n",
        "\n",
        "\n",
        "* **Curso**: 901N\n",
        "\n",
        "* **Autores**:\n",
        "\n",
        "1. Andres Felipe Arevalo Moreno\n",
        "2. Luis Alexander Pedraza Cuellar"
      ]
    },
    {
      "cell_type": "markdown",
      "metadata": {
        "id": "_25Bm3o0vW25"
      },
      "source": [
        "# Fase 2: Comprensión de los datos"
      ]
    },
    {
      "cell_type": "markdown",
      "metadata": {
        "id": "EhL3EAcfvqGC"
      },
      "source": [
        "## Orígenes de datos (1.0)\n",
        "\n",
        "Describir de forma general que se puede encontrar en este origen. Indicar si es interno, externo, se piensa adquirir o se necesita capturar (como pueden ser las encuestas por realizar).\n",
        "\n",
        "También se debe considerar si es necesario cruzar o unir con otro origen de datos."
      ]
    },
    {
      "cell_type": "markdown",
      "metadata": {
        "id": "wlBi6UJlwCJq"
      },
      "source": [
        "*Repetir esta celda para cada origen de datos*\n",
        "\n",
        "**--- Origen 1 ---**\n",
        "\n",
        "**Nombre**: nac2018.\n",
        "\n",
        "| Tablero de control de los datos | Filas | Columnas | Descripción |\n",
        "| --- | --- | --- | --- |\n",
        "| Cantidad de datos | 649115|37|  Este dataset muestra las estadísticas de nacimientos que se producen a partir de la información <br> proveniente de los certificados de nacido vivo de colombia del año 2018.|\n",
        "|Hipótesis relacionada con los objetivos del proyecto | 649115  |9  | Según nuestro objetivo que es verificar o validar que un bebé en realidad si nació vivo,<br> escogimos 9 columnas de valor porque tienen características médicas y operacionales que se orientan a nuestro objetivo,<br> además utilizamos todos los registros de este dataset, ya que al analizar los datos encontramos que ningún registro tenía valores nulos <br>y es de gran aporte para nuestro futuro modelo. además, es de recalcar una factible adición de datos con otro dataset, <br> que tiene valores característicos de defunciones de recién nacidos que son de valor para el objetivo. |\n",
        "\n",
        "\n",
        "**Forma de almacenamiento**:\n",
        "Indique como se encuentran almacenados los datos.\n",
        "\n",
        "Se Encuentran almacenados en un archivo .csv\n",
        "\n",
        "**Ubicación de los datos**:\n",
        "Indique la localización de los datos y los requerimientos técnicos para acceder a ellos. Incluir credenciales de acceso de ser necesario.\n",
        "\n",
        "Los Datos estan ubicados en los archivos nacionales de datos del DANE. en la siguiente url: https://microdatos.dane.gov.co/index.php/catalog/652/get_microdata. estos datos están de manera pública y no necesita credenciales para su ingreso."
      ]
    },
    {
      "cell_type": "markdown",
      "source": [
        "*Repetir esta celda para cada origen de datos*\n",
        "\n",
        "**--- Origen 2 ---**\n",
        "\n",
        "**Nombre**: fetal2018.\n",
        "\n",
        "| Tablero de control de los datos | Filas | Columnas | Descripción |\n",
        "| --- | --- | --- | --- |\n",
        "| Cantidad de datos | 41098 | 54 |  Este dataset muestra las estadísticas de defunciones fetales que se producen a partir de la información <br> proveniente de los certificados de defunción en colombia en el año 2018.\n",
        "| Hipótesis relacionada con los objetivos del proyecto | 41098 | 9 | Según nuestra hipótesis inicial decidimos utilizar 9 columnas de valor de alta similitud con  los atributos del primer origen,<br>   ya que la finalidad es adicionar todos los registros de este dataset en base a estas columnas, ya que esta información <br>adicional nos puede brindar características de fallecimientos fetales, además, se usaran todas las filas debido a que <br> no se tienen valores  nulos y todas son de valor para el éxito del proyecto.  |\n",
        "\n",
        "\n",
        "\n",
        "\n",
        "\n",
        "\n",
        "**Forma de almacenamiento**:\n",
        "Indique como se encuentran almacenados los datos.\n",
        "\n",
        "Se Encuentran almacenados en un archivo .csv\n",
        "\n",
        "**Ubicación de los datos**:\n",
        "Indique la localización de los datos y los requerimientos técnicos para acceder a ellos. Incluir credenciales de acceso de ser necesario.\n",
        "\n",
        "Los Datos estan ubicados en los archivos nacionales de datos del DANE. en la siguiente url: https://microdatos.dane.gov.co/index.php/catalog/652/get_microdata. estos datos están de manera pública y no necesita credenciales para su ingreso."
      ],
      "metadata": {
        "id": "isdibH2P78EA"
      }
    },
    {
      "cell_type": "markdown",
      "metadata": {
        "id": "yzT_9-VnzY7P"
      },
      "source": [
        "## Descripción de los datos (1.3)"
      ]
    },
    {
      "cell_type": "markdown",
      "metadata": {
        "id": "pJ1CAC6Nv4Zr"
      },
      "source": [
        "*Repetir esta celda para cada origen de datos*\n",
        "\n",
        "**--- Origen 1 ---**\n",
        "\n",
        "Describa cada uno de los atributos disponibles en el conjunto de datos \n",
        "\n",
        "| Atributo | Tipo de datos | Descripción |\n",
        "| --- | --- | --- |\n",
        "|COD_DPTO | Nominal | Departamento de Nacimiento. <br>esta columna se descarta, este consecutivo no nos sirve para la finalidad del objetivo  |\n",
        "|COD_MUNIC  | Discreta | Municipio de Nacimiento.<br>esta columna se descarta no se usará, este consecutivo no nos sirve para la finalidad del objetivo    |\n",
        "|AREANAC  | Nominal | Área del Nacimiento.<br> esta columna sera usada se debe dejar, ademas hay que transformarla en un dummy para<br> tomar las categorias con un mismo peso de valor.  |\n",
        "| SIT_PARTO | Ordinal  |Sitio del Parto. <br>esta columna sera usada se debe dejar en el formato como esta. <br>tiene unas pequeñas modificaciones pues hay que cambiar <br>el 2 por el 3 para que quede como = domicilio,<br> y que el 3 se cambie por el 6 para que quede como = otro.<br> quedando de la siquiente forma 1 = Institución de salud, 3 = Domicilio 6 = Otro.   |\t\n",
        "| OTRO_SIT | Ordinal | Otro sitio de parto.<br> esta columna se descarta, pues no cuenta con información de valor para el objetivo.|\t\n",
        "|SEXO  | Nominal |Sexo del nacido vivo. <br>esta columna se descarta, pues no cuenta con información de valor para el objetivo.  |\n",
        "|PESO_NAC  | Discreta |Peso del nacido vivo,<br> al nacer. esta columna sera usada se debe dejar en el formato como esta<br> pues estas categorias tienen un orden de valor.  |\n",
        "|TALLA_NAC  | Nominal  |Talla del nacido vivo, al nacer. <br> esta columna se descarta, pues no cuenta con información de valor para el objetivo.  |\n",
        "|ANO  |Discreta  |Año de la ocurrencia.<br>  esta columna se descarta, pues no cuenta con información de valor para el objetivo.   |\n",
        "|MES  |Nominal  |Mes de la ocurrencia. <br>esta columna se descarta, pues no cuenta con información de valor para el objetivo.  |\n",
        "|ATEN_PAR  |Nominal  |El parto fue atendido por.<br> esta columna se descarta, pues no cuenta con información de valor para el objetivo. |\n",
        "|T_GES  |Ordinal  |Tiempo de gestación del nacido vivo. <br> esta columna sera usada se debe dejar en el formato como esta<br> pues estas categorias tienen un orden de valor.    |\t\n",
        "|NUMCONSUL  |discreta  | Número de consultas prenatales que tuvo la madre del nacido vivo. <br>esta columna se descarta, pues no cuenta con información de valor para el objetivo.  |\n",
        "|TIPO_PARTO  |Ordinal  | Tipo de parto de este nacimiento.<br> esta columna sera usada se debe dejar en el formato como esta<br> pues estas categorias tienen un orden de valor.    |\n",
        "|MUL_PARTO  |Ordinal  | Multiplicidad del embarazo.<br> esta columna sera usada se debe dejar en el formato como esta<br> pues estas categorias tienen un orden de valor.    |\n",
        "|APGAR1  |Discreta  |APGAR al minuto del nacido vivo.<br> esta columna se descarta, pues no cuenta con información de valor para el objetivo.  |\n",
        "|APGAR2  |Discreta |APGAR a los cinco minutos del nacido vivo.<br> esta columna se descarta, pues no cuenta con información de valor para el objetivo.   |\n",
        "|IDHEMOCLAS  |Nominal  | Hemoclasificación del nacido vivo: Grupo Sanguíneo.<br> esta columna se descarta, pues no cuenta con información de valor para el objetivo.   |\n",
        "|IDFACTORRH  |Nominal  | Hemoclasificación del nacido vivo: Factor RH. <br>esta columna se descarta, pues no cuenta con información de valor para el objetivo.  |\t\n",
        "|IDPERTET  | Nominal |De acuerdo con la cultura, pueblo o rasgos físicos,<br> el nacido vivo es reconocido por sus padres como.<br> esta columna se descarta, pues no cuenta con información de valor para el objetivo.   |\n",
        "|EDAD_MADRE  |Discreta  |Edad de la madre a la fecha del parto.<br> esta columna sera usada se debe dejar en el formato como esta<br> pues estas categorias tienen un orden de valor.    |\n",
        "|EST_CIVM  |Nominal  | Estado conyugal de la madre.<br> esta columna se descarta, pues no cuenta con información de valor para el objetivo. |\n",
        "|NIV_EDUM  | Nominal | Ultimo nivel de estudio que aprobó la madre. <br>esta columna se descarta, pues no cuenta con información de valor para el objetivo. |\n",
        "|ULTCURMAD  |Discreta | Ultimo año o grado aprobado de la madre. <br>esta columna se descarta, pues no cuenta con información de valor para el objetivo.  |\n",
        "|CODPRES  |Nominal  |País de residencia habitual de la madre en el extranjero. <br>esta columna se descarta, pues no cuenta con información de valor para el objetivo.  |\n",
        "|CODPTORE  |Discreta | Departamento de residencia habitual de la madre. <br>esta columna se descarta, pues no cuenta con información de valor para el objetivo.  |\t\n",
        "|CODMUNRE  |Discreta | Municipio de residencia habitual de la madre.<br> esta columna se descarta, pues no cuenta con información de valor para el objetivo.   |\n",
        "|AREA_RES  |Nominal  | Área de residencia habitual de la madre. <br>esta columna se descarta, pues no cuenta con información de valor para el objetivo. |\n",
        "|N_HIJOSV  |Nominal  |Número de hijos nacidos vivos que ha tenido la madre incluido el presente.<br> esta columna se descarta, pues no cuenta con información de valor para el objetivo.   |\n",
        "|FECHA_NACM  |Discreta  |Fecha de nacimiento del anterior hijo nacido vivo.<br> esta columna se descarta, pues no cuenta con información de valor para el objetivo.   |\n",
        "|N_EMB  |Discreta  |Número de embarazos, incluido el presente.<br> esta columna se descarta, pues no cuenta con información de valor para el objetivo.  |\n",
        "|SEG_SOCIAL  |Nominal |  Régimen de seguridad social en salud de la madre.<br> esta columna sera usada se debe dejar,<br>ademas hay que transformarla en un dummy para tomar<br> las categorias con un mismo peso de valor.  |\n",
        "|IDCLASADMI  |Nominal |Entidad Administradora en Salud a la que pertenece la madre. <br>esta columna se descarta, pues no cuenta con información de valor para el objetivo.   |\n",
        "|EDAD_PADRE  |Discreta  |Edad del padre en años cumplidos a la fecha del nacimiento de este hijo. <br>esta columna se descarta, pues no cuenta con información de valor para el objetivo.  |\n",
        "|NIV_EDUP  |Nominal  |Nivel educativo del padre, ultimo año de estudio que aprobó el padre.<br> esta columna se descarta, pues no cuenta con información de valor para el objetivo.   |\n",
        "|ULTCURPAD  |Discreta  |Ultimo año o grado aprobado del padre.<br> esta columna se descarta, pues no cuenta con información de valor para el objetivo.   |\n",
        "|PROFESION  |Ordinal  |Profesión de quien certifica el nacimiento.<br> esta columna sera usada se debe dejar en el formato como esta<br> pues estas categorias tienen un orden de valor.    |\n",
        "\n",
        "\n",
        "      \t"
      ]
    },
    {
      "cell_type": "markdown",
      "source": [
        "*Repetir esta celda para cada origen de datos*\n",
        "\n",
        "**--- Origen 2 ---**\n",
        "\n",
        "Describa cada uno de los atributos disponibles en el conjunto de datos \n",
        "\n",
        "\n",
        "| Atributo | Tipo de datos | Descripción |\n",
        "| --- | --- | --- |\n",
        "| COD_DPTO | Nominal|  Departamento donde ocurrió la defunción. <br>Esta columna se descarta porque no tiene informacion de valos para el objetivo.   |\n",
        "| COD_MUNIC | Discreta | Municipio donde ocurrió la defunción Municipio,<br> según la División Político- Administrativa del DANE.<br> Esta columna se descarta, pues no cuenta con información de valor para el objetivo.  |\t\n",
        "|A_DEFUN  |Nominal  | Área donde ocurrió la defunción <br> 1 = Cabecera municipal <br> 2 = Centro poblado (Inspección, corregimiento o caserío) <br> 3 = Rural disperso <br> 9 = Sin información. <br>Esta columna sera usada se debe dejar, ademas hay que <br> transformarla en un dummi por que es una categoria <br>tipo nominal y se debe procesar de forma diferente.   |\n",
        "|SIT_DEFUN   |Ordinal  |Sitio donde ocurrió la defunción<br> 1 = Hospital/clínica <br>2 = Centro/puesto de salud <br>3 = Casa/domicilio <br>4 = Lugar de trabajo<br> 5 = Vía pública <br>6 = Otro <br>9 = Sin información. <br>esta columna sera usada se debe dejar en el formato<br> como esta pues estas categorias tienen un orden de valor.  |\n",
        "|OTRSITIODE   | Ordinal |Otro sitio de defuncion. <br>Esta columna se descarta, pues no cuenta con información de valor para el objetivo.  |\n",
        "|TIPO_DEFUN  |Nominal  |Tipo de defunción <br>1 = Defunción Fetal. <br>Esta columna se descarta, pues no cuenta con información de valor para el objetivo.   |\n",
        "|ANO  |Discreta  | Año en que ocurrió la defunción 2018.<br> Esta columna se descarta,<br> pues no cuenta con información de valor para el objetivo.   |\t\n",
        "|MES  |Nominal  | Mes en que ocurrió la defunción.<br>Esta columna se descarta, pues no cuenta con información de valor para el objetivo.  |\n",
        "|HORA  |Discreta  |Hora en que ocurrió la defunción.<br> Esta columna se descarta, pues no cuenta con información de valor para el objetivo.  |\n",
        "|MINUTOS  |Discreta  |Minutos en que ocurrió la defunción.<br> Esta columna se descarta, pues no cuenta con información de valor para el objetivo.  |\n",
        "| SEXO  |Nominal  |Sexo del fallecido. <br>Esta columna se descarta, pues no cuenta con información de valor para el objetivo. |\n",
        "|CODPRES  | Discreta |País de residencia habitual del fallecido, <br>cuandoresidía en un paísdiferente a Colombia <br>(paramuerte fetal o de menor de un año el de la madre).<br> Esta columna se descarta, pues no cuenta con información de valor para el objetivo.   |\n",
        "| CODPTORE  |Discreta  |Departamento de residencia habitual del fallecido <br>(para muerte fetal o de menor de un año el de la madre). <br>Esta columna se descarta, pues no cuenta con información de valor para el objetivo.  |\t\n",
        "| CODMUNRE  |Discreta  | Municipio de residencia habitual del fallecido <br>(para muerte fetal o de menor de un año el de la madre).<br>Esta columna se descarta, pues no cuenta con información de valor para el objetivo.  |\n",
        "| AREA_RES  |Nominal  |Área de residencia habitual del fallecido <br>(para muerte fetal o de menor de un año la el de la madre). <br>Esta columna se descarta, pues no cuenta con información de valor para el objetivo.   |\n",
        "| SEG_SOCIAL  |Nominal  | Régimen de seguridad social del fallecido<br> (para muerte fetal, o de menor de un año el de la madre ) <br>1 = Contributivo<br> 2 = Subsidiado<br> 3 = Excepción <br>4 = Especial<br> 5 = No asegurado <br>9 =Sin información . <br> esta columna sera usada se debe dejar, <br>ademas hay que transformarla en un dummi por que es una categoria tipo nominal<br> y se debe procesar de forma diferente. |\n",
        "| IDADMISALUD  |Discreta  | No se sabe a que hace referencia esta columna<br> y tampoco tiene información, se debe descartar. <br>Esta columna se descarta, pues no cuenta con información de valor para el objetivo. |\n",
        "| PMAN_MUER  |Nominal  | Probable manera de muerte.<br> Esta columna se descarta, pues no cuenta con información de valor para el objetivo.  |\n",
        "| CONS_EXP  |Nominal  |Certificado de defunción expedido por que persona.<br> Esta columna se descarta, pues no cuenta con información de valor para el objetivo.  |\t\n",
        "| MU_PARTO  |Nominal   |La muerte fetal o del menor de un año ocurrió con relación al parto.<br> Esta columna se descarta, pues no cuenta con información de valor para el objetivo.  |\n",
        "| T_PARTO  |Ordinal   | Tipo de parto - el feto o el menor de un año fallecido nació por parto <br>1 = Espontáneo <br>2 = Cesárea <br>3 = Instrumentado<br> 4 = Ignorado<br> 9 = Sin información.<br> esta columna sera usada se debe dejar en el formato como esta <br>pues estas categorias tienen un orden de valor.   |\n",
        "| TIPO_EMB  |Ordinal  | Multiplicidad - el feto o el menor de un año fallecido nació de un embarazo <br>1 = Simple <br>2 = Doble <br>3 = Triple <br>4 = Cuádruple o más <br>5 = Ignorado.  <br>esta columna sera usada se debe dejar en el formato como esta<br>pues estas categorias tienen un orden de valor.   |\n",
        "| T_GES  |Ordinal   | Número de semanas tiempo de gestación<br> 1 = Menos de 22 semanas<br> 2 = De 22 a 27 semanas <br>3 = De 28 a 37 semanas <br>4 = De 38 a 41 semanas<br> 5 = De 42 y más semanas<br> 6 = Ignorado <br>9 = Sin información. <br>esta columna sera usada se debe dejar en el formato como esta<br> pues estas categorias tienen un orden de valor.  |\n",
        "|PESO_NAC  |Nominal   | Peso al nacer del feto o del menor de un año<br> 1 = Menos de 1000 gramos <br>2 = De 1000 a 1499 gramos <br>3 = De 1500 a 1999 gramos<br> 4 = De 2000 a 2499 gramos<br> 5 = De 2500 a 2999 gramos <br>6 = De 3000 a 3499 gramos <br>7 = De 3500 a 3999 gramos <br>8 = De 4000 y más gramos<br> 9 = Sin información.<br>esta columna sera usada se debe dejar en el formato como esta <br>pues estas categorias tienen un orden de valor.  |\n",
        "|EDAD_MADRE  |Nominal   | Edad de la madre del feto o del menor de un año fallecido<br> 1 = De 10 a 14 años <br>2 = De 15 a 19 años <br>3 = De 20 a 24 años <br>4 = De 25 a 29 años<br> 5 = De 30 a 34 años <br>6 = De 35 a 39 años <br>7 = De40 a 44 años<br> 8 = De 45 a 49 años <br>9 = De 50 a 54 años <br>99 = Sin información.<br> esta columna sera usada se debe dejar en el formato como esta <br>pues estas categorias tienen un orden de valor.    |\t\n",
        "| N_HIJOSV  |Discreta  |Número de hijos nacidos vivos de la madre <br>(incluyendo el presente). <br>Esta columna se descarta, pues no cuenta con información de valor para el objetivo.  |\n",
        "| N_HIJOSM  |Discreta  |Número de hijos nacidos muertos de la madre<br> (incluyendo el presente) <br>.Esta columna se descarta, pues no cuenta con información de valor para el objetivo.  |\n",
        "| EST_CIVM   |Nominal  |Estado conyugal de la madre.<br> Esta columna se descarta, pues no cuenta con información de valor para el objetivo.   |\n",
        "| NIV_EDUM  |Nominal  |Estado conyugal de la madre. <br>Esta columna se descarta, pues no cuenta con información de valor para el objetivo.   |\n",
        "| ULTCURMAD  |Discreta  | Ultimo año o grado aprobado de la madre.<br> Esta columna se descarta, pues no cuenta con información de valor para el objetivo.  |\n",
        "|MAN_MUER |Nominal  |Probable manera de muerte (violenta).<br> Esta columna se descarta, pues no cuenta con información de valor para el objetivo.  |\t\n",
        "|CODOCUR  |Discreta  |Departamento de ocurrencia del hecho cuando es muerte violencia.<br> Esta columna se descarta, pues no cuenta con información de valor para el objetivo.  |\n",
        "|CODMUNOC  |Discreta  |Municipio de ocurrencia del hecho cuando es muerte violenta.<br> Esta columna se descarta, pues no cuenta con información de valor para el objetivo.   |\n",
        "|C_MUERTE   |Nominal |Como determino la causa de muerte - A<br> 1 = Necropsia. <br>Esta columna se descarta, pues no cuenta con información de valor para el objetivo.   |\n",
        "|C_MUERTEB  |Nominal  | Como determino la causa de muerte - B <br>1 = Historia clínica.<br> Esta columna se descarta, pues no cuenta con información de valor para el objetivo.  |\n",
        "| C_MUERTEC  |Nominal  | Como determino la causa de muerte - C <br>1 = Pruebas de laboratorio.<br> Esta columna se descarta, pues no cuenta con información de valor para el objetivo.   |\n",
        "| C_MUERTED   |Nominal  | Como determino la causa de muerte -D<br> 1 = Interrogatorio a familiares o testigos.<br> Esta columna se descarta, pues no cuenta con información de valor para el objetivo.   |\t\n",
        "|C_MUERTEE  |Nominal  | Como determino la causa de muerte -E <br>1 = Sin información. <br>Esta columna se descarta, pues no cuenta con información de valor para el objetivo.   |\n",
        "| ASIS_MED   |Nominal  | Recibió asistencia médica durante el proceso que lo llevo a la muerte?<br> 1 = Sí <br>2 = No<br> 3 = Ignorado<br> 9 = Sin información.<br> Esta columna se descarta, pues no cuenta con información de valor para el objetivo.  |\n",
        "| C_DIR1  |Discreta  |Causa Directa: Código de la causa de defunción informada en el renglón a)<br>. Esta columna se descarta, pues no cuenta con información de valor para el objetivo.   |\n",
        "| C_DIR12  |Discreta   |Código de la segunda causa de defunción informada en el renglón a).<br> Esta columna se descarta, pues no cuenta con información de valor para el objetivo.   |\n",
        "| C_ANT1  |Discreta   |Causas Antecedentes1: Código de la causa de defunción informada en el renglón b) .<br> Esta columna se descarta, pues no cuenta con información de valor para el objetivo.  |\n",
        "| C_ANT12   |Discreta   | Código de la segunda causa de defunción informada en el renglón b) .<br> Esta columna se descarta, pues no cuenta con información de valor para el objetivo.|\t\n",
        "| C_ANT2  |Discreta   |Causas Antecedentes2: Código de la causa de defunción informada en el renglón c) <br>. Esta columna se descarta, pues no cuenta con información de valor para el objetivo.  |\n",
        "| C_ANT22   |Discreta   |Código de la segunda causa de defunción informada en el renglón c). <br>Esta columna se descarta, pues no cuenta con información de valor para el objetivo.  |\n",
        "| C_ANT3   |Discreta   |Causas Antecedentes3: Código de la causa de defunción informada en el renglón d) .<br> Esta columna se descarta, pues no cuenta con información de valor para el objetivo.  |\n",
        "| C_ANT32  |Discreta   |Código de la segunda causa de defunción informada en el renglón d) .<br> Esta columna se descarta, pues no cuenta con información de valor para el objetivo.  |\n",
        "|C_PAT1  |Discreta   | Otros estados patológicos importantes Código de la causa de defunción informada en II.<br> Esta columna se descarta, pues no cuenta con información de valor para el objetivo.  |\n",
        "| C_PAT2  |Discreta  |Código de la causa de defunción informada en otros estados Patológico importantes<br> Esta columna se descarta, pues no cuenta con información de valor para el objetivo.   |\t\n",
        "| C_BAS1  |Discreta   |Código de la causa Básica de la defunción. <br>Esta columna se descarta, pues no cuenta con información de valor para el objetivo.   |\n",
        "| C_MCM1  |Discreta   |Código de la causa de defunción informada en Muerte Sin Certificación medica.<br> Esta columna se descarta, pues no cuenta con información de valor para el objetivo.  |\n",
        "| CAUSA_667  |Continuo  |No se sabe a que hace referencia esta columna y tampoco tiene información, se debe descartar.<br>Esta columna se descarta, pues no cuenta con información de valor para el objetivo.  |\n",
        "| IDPROFCER  |Ordinal  |Profesión de quien certifica la defunción<br> 1 = Médico<br> 2 = Enfermero(a) <br>3 = Auxiliar de enfermería<br> 4 = Promotor(a) de salud<br> 5 = Funcionario de registro civil <br>6 = Médico legista <br>9 = Sin infomración.<br>esta columna sera usada se debe dejar en el formato como esta<br> pues estas categorias tienen un orden de valor.   |\n",
        "|CAU_HOMOL  |Ordinal  | Causa básica agrupada con base en la Lista 105 Colombia. Esta columna se descarta,<br> pues no cuenta con información de valor para el objetivo.  |\n",
        "\n",
        "\n",
        "\n"
      ],
      "metadata": {
        "id": "Gs3BFtYZHSzA"
      }
    },
    {
      "cell_type": "markdown",
      "metadata": {
        "id": "tIGyrkUQxMPT"
      },
      "source": [
        "## Exploración de los datos (1.4)\n",
        "\n",
        "Una ver explorados los datos, indique que atributos o conjuntos de atributos pueden ser prometedores para el análisis y plantee hipótesis al respecto."
      ]
    },
    {
      "cell_type": "markdown",
      "metadata": {
        "id": "-OjtGlnVzyFI"
      },
      "source": [
        "*Repetir esta celda para cada origen de datos*\n",
        "\n",
        "**--- Origen 1 ---**\n",
        "\n",
        "Listar en las siguiente tabla únicamente los atributos candidatos a usar en el modelo.\n",
        "* Plantee posibles transformaciones\n",
        "* Plantee hipótesis que generadas de la exploración\n",
        "* Agregar otras columnas relevantes como: min, max, std, mean, mode, etc.\n",
        "\n",
        "| Atributo | Transformaciones | Hipótesis |\n",
        "| --- | --- | --- | \n",
        "|AREANAC |Transformar en un dummy porque es una categoria de tipo nominal,<br> Renombrar las columnas dumi como<br> 1 = Cabecera municipal <br>2 = Centro poblado <br>3 = Rural disperso.<br> eliminar la categoria 9= sin informacion, esos datos no son relevantes.<br> pasar los datos de tipo texto a numerico para operarlo.   | Con este atributo se tiene la hipotesis de que si el bebé nace en lugares <br>apartados como rural hay posibilidades de falta de recursos o tropiezos para un buen parto. |\n",
        "| SIT_PARTO |Esta columna sera usada se debe dejar en el formato<br> como esta pues estas categorias tienen un orden de valor.<br> 1 = Institución de salud <br>3 = Domicilio <br>6 = Otro . <br>eliminar la categoria 9= sin informacion, esos datos no son relevantes.<br> pasar los datos de tipo texto a numerico para operarlo. |  Con este atributo se tiene la hipotesis de que si se atiende un embarazo en el domicilio <br>hay mas probabilidad de tener complicaciones en el parto porque no se cuenta con recursos de salud de un hospital o clinica.  |\n",
        "| PESO_NAC  |Esta columna sera usada se debe dejar en el formato<br> como esta pues estas categorias tienen un orden de valor.<br> 1 = Menos de 1.000 <br>2 = 1.000 - 1.499 <br>3 = 1.500 - 1.999 <br>4 = 2.000 - 2499<br> 5 = 2.500 - 2.999 <br>6 = 3.000 - 3499 <br>7 = 3.500 - 3.999 <br>8 = 4.000 .<br> eliminar la categoria 9= sin informacion, esos datos no son relevantes.<br> pasar los datos de tipo texto a numerico para operarlo.<br> No tenemos los valores desagregados los tenemos por categoria que van de rango a rango.  |  Con este atributo se tiene la hipotesis de que si el bebé nace con <br>un peso muy bajo tiene una probabiliad mas alta de fallecer por falta de un buen desarrollo. |\t\n",
        "|T_GES   | Esta columna sera usada se debe dejar en el formato<br> como esta pues estas categorias tienen un orden de valor.<br> 1 = Menos de 22 <br>2 = De 22 a 27 <br>3 = De 28 a 37 <br>4 = De 38 a 41<br> 5 = De 42 y más<br> 6 = Ignorado.<br> Eliminar la categoria 9= sin informacion, esos datos no son relevantes.<br> pasar los datos de tipo texto a numerico para operarlo. | Con este atributo se tiene la hipotesis de que si el bebé<br> nace antes de su tiempo de estimado de gestación es mas alta la probabilidad de fallecer en el<br> parto por falta de desarrollo del feto.    |\n",
        "| TIPO_PARTO  |Esta columna sera usada se debe dejar en el formato<br> como esta pues estas categorias tienen un orden de valor. <br>1 = Espontáneo <br>2 = Cesárea <br>3 = Instrumentado<br> 4 = Ignorado Eliminar la categoria 9= sin informacion, esos datos no son relevantes.<br> pasar los datos de tipo texto a numerico para operarlo.   |Con este atributo se tiene la hipotesis de que le bebé puede tener una posibilidad alta de complicaciones<br> al nacer si es asistido por medio de un parto instrumentado o complicaciones en la cesárea.   |\n",
        "| MUL_PARTO  |Esta columna sera usada se debe dejar en el formato<br> como esta pues estas categorias tienen un orden de valor.<br> 1 = Simple<br> 2 = Doble<br> 3 = Triple<br> 4 = Cuádruple  ,Eliminar la categoria 9= sin informacion, esos datos no son relevantes.<br> pasar los datos de tipo texto a numerico para operarlo.  | Con este atributo se tiene la hipotesis de que si el bebé hace parte de un embarazo multiple <br>puede tener altas probabilidadesde fallecer por la complejidad del parto.   |\t\n",
        "| EDAD_MADRE  | Esta columna sera usada se debe dejar en el formato<br> como esta pues estas categorias tienen un orden de valor.<br> 1 = De 10-14 Años<br> 2 = De 15-19 Años<br> 3 = De 20-24 Años<br> 4 = De 25-29 Años <br>5 = De 30-34 Años<br> 6 = De 35-39 Años<br> 7 = De 40-44 Años <br>8 = De 45-49 Años<br> 9 = De 50-54 Años,<br> Eliminar la categoria 99= sin informacion, esos datos no son relevantes.<br> pasar los datos de tipo texto a numerico para operarlo.<br> No tenemos los valores desagregados los tenemos por categoria que van de rango a rango.| Con este atributo se tiene la hipotesis de que se pueden presentar complicaciones en el embarazo o el parto <br>por las cualidades de salud de madre prematura o de muy avanzada edad.   |\n",
        "| SEG_SOCIAL | Transformar en un dummi porque es una categoria de tipo nominal.<br> Renombrar las columnas dummy como<br> 1 = Contributivo <br>2 = Subsidiado <br>3 = Excepción<br> 4 = Especial<br> 5 = No asegurado. <br>y eliminar la categoria 9= sin informacion, esos datos no son relevantes.<br> pasar los datos de tipo texto a numerico para operarlo.  | Con este atributo se tiene la hipotesis de que la madre puede tener complicaciones en el parto con su bebé, debido <br>a que no tenga una buena atencion de salud por falta de recursos o simplemente no estar asegurada.   |\n",
        "| PROFESION | Esta columna sera usada se debe dejar en el formato<br> como esta pues estas categorias tienen un orden de valor. <br>1 = Médico<br> 2 = Enfermero(a) <br>3 = Auxiliar de enfermería<br> 4 = Promotor(a) de salud<br> 5 = Funcionario de registro civil.<br> y eliminar la categoria 9= sin informacion, esos datos no son relevantes.<br> pasar los datos de tipo texto a numerico para operarlo.  | Con este atributo se tiene la hipotesis de que se puede tener complicaciones el el parto debido <br>a la expericia y estudios de la persona que asista el parto.    |\n",
        "| VIVOS  | Crear esta columna antes de unir los dos origenes. <br>con datos quemados como bebés nacidos = 1,<br> bebés muertos = -1. |Con este atributo se tiene la hipotesis de identificar si un bebé nace<br> vivo segun los datos de los dos origenes tantos nacidos como fallecidos. Esta es la columna objetivo.    |\n",
        "\n",
        "\n",
        "\n",
        "\n",
        "\n",
        "*Si en la exploración de datos surgen hipótesis que puedan modificar los objetivos del proyecto es necesario devolver a la etapa anterior para asegurarse que el proyecto sigue teniendo la misma validez.*"
      ]
    },
    {
      "cell_type": "markdown",
      "source": [
        "*Repetir esta celda para cada origen de datos*\n",
        "\n",
        "**--- Origen 2 ---**\n",
        "\n",
        "Listar en las siguiente tabla únicamente los atributos candidatos a usar en el modelo.\n",
        "* Plantee posibles transformaciones\n",
        "* Plantee hipótesis que generadas de la exploración\n",
        "* Agregar otras columnas relevantes como: min, max, std, mean, mode, etc.\n",
        "\n",
        "| Atributo | Transformaciones | Hipótesis |\n",
        "| --- | --- | --- |\n",
        "| A_DEFUN| Transformar en un dummy porque es una categoria de tipo nominal, <br> Renombrar las columnas dumi como <br>1 = Cabecera municipal<br> 2 = Centro poblado<br> 3 = Rural disperso. <br>eliminar la categoria 9= sin informacion, esos datos no son relevantes.<br> pasar los datos de tipo texto a numerico para operarlo. <br>Renombrar columna que coincida con origen 1 como, AREA_OCURRENCIA. |Con este atributo se tiene la hipotesis de que si el bebé nace en lugares apartados<br> como rural hay posibilidades de falta de recursos o tropiezos para un buen parto.  |\t\n",
        "| SIT_DEFUN  |Esta columna sera usada se debe dejar en el formato<br> como esta pues estas categorias tienen un orden de valor.<br> 1 = Hospital/clínica <br>2 = Centro/puesto de salud <br>3 = Casa/domicilio <br>4 = Lugar de trabajo<br> 5 = Vía pública <br>6 = Otro. <br>eliminar la categoria 9= sin informacion, esos datos no son relevantes.<br> pasar los datos de tipo texto a numerico para operarlo.<br> Renombrar columna que coincida con origen 1 como, SITIO_OCURRENCIA. |Con este atributo se tiene la hipotesis de que si se atiende un embarazo en el domicilio <br>hay mas probabilidad de tener complicaciones en el parto porque no se cuenta con recursos <br>de salud de un hospital o clinica.  |\n",
        "| PESO_NAC | Esta columna sera usada se debe dejar en el formato<br> como esta pues estas categorias tienen un orden de valor.<br> 1 = Menos de 1.000 <br>2 = 1.000 - 1.499 <br>3 = 1.500 - 1.999 <br>4 = 2.000 - 2499<br> 5 = 2.500 - 2.999 <br>6 = 3.000 - 3499 <br>7 = 3.500 - 3.999<br> 8 = 4.000 .<br> eliminar la categoria 9= sin informacion, esos datos no son relevantes.<br> pasar los datos de tipo texto a numerico para operarlo.<br> No tenemos los valores desagregados los tenemos por categoria que van de rango a rango.<br>Renombrar columna que coincida con origen 1 como, PESO. |Con este atributo se tiene la hipotesis de que si el bebé nace con un peso muy bajo<br> tiene una probabiliad mas alta de fallecer por falta de un buen desarrollo.  |\n",
        "| T_GES | Esta columna sera usada se debe dejar en el formato<br> como esta pues estas categorias tienen un orden de valor. <br> 1 = Menos de 22 semanas <br>2 = De 22 a 27 semanas<br> 3 = De 28 a 37 semanas<br>4 = De 38 a 41 semanas<br>5 = De 42 y más semanas<br> 6 =Ignorado. <br>Eliminar la categoria 9= sin informacion, esos datos no sonrelevantes.<br> pasar los datos de tipo texto a numerico para operarlo.  |Con este atributo se tiene la hipotesis de que si el bebé nace antes de su tiempo de estimado de <br>gestación es mas alta la probabilidad de fallecer en el parto por falta de desarrollo del feto.  |\n",
        "|T_PARTO  |Esta columna sera usada se debe dejar en el formato<br> como esta pues estas categorias tienen un orden de valor. <br>1 = Espontáneo <br>2 = Cesárea<br> 3 = Instrumentado <br>4 = Ignorado<br> Eliminar la categoria 9= sin informacion, esos datos no son relevantes.<br> pasar los datos de tipo texto a numerico para operarlo.  |Con este atributo se tiene la hipotesis de que le bebé puede tener una posibilidad alta de complicaciones <br>al nacer si es asistido por medio de un parto instrumentado o complicaciones en la cesárea.  |\n",
        "| TIPO_EMB  |Esta columna sera usada se debe dejar en el formato<br> como esta pues estas categorias tienen un orden de valor.<br> 1 = Simple<br> 2 = Doble <br>3 = Triple <br>4 = Cuádruple<br>  ,Eliminar la categoria 9= sin informacion, esos datos no son relevantes.<br> pasar los datos de tipo texto a numerico para operarlo.  |  Con este atributo se tiene la hipotesis de que si el bebé hace parte de un embarazo multiple<br> puede tener altas probabilidadesde fallecer por la complejidad del parto. |\n",
        "|EDAD_MADRE  |Esta columna sera usada se debe dejar en el formato<br> como esta pues estas categorias tienen un orden de valor.<br> 1 = De 10-14 Años <br>2 = De 15-19 Años<br> 3 = De 20-24 Años<br> 4 = De 25-29 Años<br> 5 = De 30-34 Años <br>6 = De 35-39 Años <br>7 = De 40-44 Años<br> 8 = De 45-49 Años <br>9 = De 50-54 Años<br> Eliminar la categoria 9= sin informacion, esos datos no son relevantes.<br> pasar los datos de tipo texto a numerico para operarlo.<br> No tenemos los valores desagregados los tenemos por categoria que van de rango a rango.|Con este atributo se tiene la hipotesis de que se pueden<br> presentar complicaciones en el embarazo o el parto por las cualidades de <br>salud de madre prematura o de muy avanzada edad.   |  \n",
        "| SEG_SOCIAL  | Transformar en un dummy porque es una categoria de tipo nominal.<br> Renombrar las columnas dumi como <br>1 = Contributivo<br> 2 = Subsidiado<br> 3 = Excepción <br>4 = Especial<br> 5 = No asegurado.<br> y eliminar la categoria 9= sin informacion, esos datos no son relevantes.<br> pasar los datos de tipo texto a numerico para operarlo.  |Con este atributo se tiene la hipotesis de que la madre puede tener <br>complicaciones en el parto con su bebé, debido a que no tenga una buena atencion<br> de salud por falta de recursos o simplemente no estar asegurada.  |\n",
        "|IDPROFCER  |Esta columna sera usada se debe dejar en el formato<br> como esta pues estas categorias tienen un orden de valor.<br> 1 = Médico <br>2 = Enfermero(a)<br> 3 = Auxiliar de enfermería<br> 4 = Promotor(a) de salud<br> 5 = Funcionario de registro civil <br>6 = Médico legista<br> y eliminar la categoria 9= sin informacion, esos datos no son relevantes. <br>pasar los datos de tipo texto a numerico para operarlo.  | Con este atributo se tiene la hipotesis de que se puede tener complicaciones el el parto<br> debido a la expericia y estudios de la persona que asista el parto.   |\n",
        "|VIVOS  |Crear esta columna antes de unir los dos origenes.<br> con datos quemados como bebés<br> nacidos =1<br> bebés muertos = -1  |Con este atributo se tiene la hipotesis de identificar si un bebé<br> nace vivo segun los datos de los dos origenes tantos nacidos como fallecidos.<br> Esta es la columna objetivo.  |\n",
        "\n",
        "\n",
        "\n",
        "\n",
        "*Si en la exploración de datos surgen hipótesis que puedan modificar los objetivos del proyecto es necesario devolver a la etapa anterior para asegurarse que el proyecto sigue teniendo la misma validez.*"
      ],
      "metadata": {
        "id": "3G-Zjq2RgkS4"
      }
    },
    {
      "cell_type": "markdown",
      "metadata": {
        "id": "n0udWv1N1URf"
      },
      "source": [
        "## Calidad de los datos (1.3)\n",
        "\n",
        "En caso de identificar columnas o atributos con datos faltantes diligencie la siguiente tabla indicándolos y como se propone solventar la falta."
      ]
    },
    {
      "cell_type": "markdown",
      "metadata": {
        "id": "6xzaJAe0vHiL"
      },
      "source": [
        "*Repetir esta celda para cada origen de datos*\n",
        "\n",
        "**--- Origen 1 ---**\n",
        "Liste los atributos donde ha identificado datos faltantes.\n",
        "\n",
        "|Atributo | Cantidad total | Cantidad faltantes | Posible forma de suplir los datos faltantes |\n",
        "| --- | --- | --- | --- |\n",
        "| PESO_NAC| 649115 | 5045 | Eliminarlos si terminan en =9 porque estos son datos sin informacion que nos muestra el conjunto de datos |\n",
        "| T_GES | 649115 | 19 | Eliminarlos si terminan en =9 porque estos son datos sin informacion que nos muestra el conjunto de datos|\n",
        "\n"
      ]
    },
    {
      "cell_type": "markdown",
      "source": [
        "*Repetir esta celda para cada origen de datos*\n",
        "\n",
        "**--- Origen 2 ---**\n",
        "Liste los atributos donde ha identificado datos faltantes.\n",
        "\n",
        "|Atributo | Cantidad total | Cantidad faltantes | Posible forma de suplir los datos faltantes |\n",
        "| --- | --- | --- | --- |\n",
        "| A_DEFUN| 41098 | 13| Eliminarlos si terminan en =9, porque estos son datos sin informacion que nos muestra el conjunto de datos.|\n",
        "| SIT_DEFUN | 41098 | 477 | Eliminarlos si terminan en =9, porque estos son datos sin informacion que nos muestra el conjunto de datos. |\n",
        "| PESO_NAC| 41098 | 7456| Eliminarlos si terminan en =9, porque estos son datos sin informacion que nos muestra el conjunto de datos. |\n",
        "| T_GES | 41098 | 5131 | Eliminarlos si terminan en =9, porque estos son datos sin informacion que nos muestra el conjunto de datos. |\n",
        "| T_PARTO| 41098 | 2| Eliminarlos si terminan en =9, porque estos son datos sin informacion que nos muestra el conjunto de datos. |\n",
        "| TIPO_EMB | 41098 | 1 | Eliminarlos si terminan en =9, porque estos son datos sin informacion que nos muestra el conjunto de datos. |\n",
        "| EDAD_MADRE | 41098 | 295 | Eliminarlos si terminan en =99, porque estos son datos sin informacion que nos muestra el conjunto de datos. |\n",
        "| SEG_SOCIAL| 41098 | 325| Eliminarlos si terminan en =9, porque estos son datos sin informacion que nos muestra el conjunto de datos. |\n",
        "\n"
      ],
      "metadata": {
        "id": "vHs_OfGFzdCi"
      }
    },
    {
      "cell_type": "markdown",
      "source": [
        "ya queda especificado el porque se eliminan los datos que terminan en =9 ✅."
      ],
      "metadata": {
        "id": "mV8EE9LLsA7C"
      }
    },
    {
      "cell_type": "markdown",
      "metadata": {
        "id": "xwytrs-y2ArE"
      },
      "source": [
        "## Auto valoración"
      ]
    },
    {
      "cell_type": "markdown",
      "metadata": {
        "id": "mVvBTIKv2Eh6"
      },
      "source": [
        "**¿Está todo listo para el siguiente paso?**\n",
        "\n",
        "Responda a las siguientes preguntas. Es una auto valoración de lo realizado. En caso de que alguna no pueda ser respondida debería devolverse al punto correspondiente e identificar las carencias.\n",
        "\n",
        "\n",
        "*\t¿Ha identificado y accedido correctamente a todos los orígenes de datos?\n",
        "*\t¿Ha identificado atributos clave de los datos disponibles?\n",
        "*\t¿Tiene una planificación para resolver los problemas de datos?"
      ]
    }
  ]
}